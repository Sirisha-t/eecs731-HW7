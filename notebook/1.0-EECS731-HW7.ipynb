{
 "cells": [
  {
   "cell_type": "code",
   "execution_count": 1,
   "metadata": {
    "collapsed": true
   },
   "outputs": [],
   "source": [
    "#Import required modules\n",
    "\n",
    "import pandas as pd\n",
    "import numpy as np\n",
    "import seaborn as sns\n",
    "sns.set(style = \"whitegrid\")\n",
    "import matplotlib.pyplot as plt\n",
    "from sklearn.model_selection import train_test_split\n",
    "from sklearn.metrics import accuracy_score\n",
    "\n",
    "#Plotting preferences\n",
    "import seaborn as sns\n",
    "import matplotlib.pyplot as plt\n",
    "\n",
    "import nltk\n",
    "import string\n",
    "import re\n",
    "\n",
    "from sklearn import datasets, linear_model\n",
    "from sklearn.metrics import mean_squared_error, r2_score\n",
    "\n",
    "%matplotlib inline"
   ]
  },
  {
   "cell_type": "code",
   "execution_count": 2,
   "metadata": {
    "collapsed": true
   },
   "outputs": [],
   "source": [
    "# Read input NBA dataset\n",
    "df = pd.read_csv(\"nba_elo.csv\")"
   ]
  },
  {
   "cell_type": "code",
   "execution_count": 3,
   "metadata": {
    "collapsed": false
   },
   "outputs": [
    {
     "data": {
      "text/plain": [
       "Index([u'date', u'season', u'neutral', u'playoff', u'team1', u'team2',\n",
       "       u'elo1_pre', u'elo2_pre', u'elo_prob1', u'elo_prob2', u'elo1_post',\n",
       "       u'elo2_post', u'carmelo1_pre', u'carmelo2_pre', u'carmelo1_post',\n",
       "       u'carmelo2_post', u'carmelo_prob1', u'carmelo_prob2', u'score1',\n",
       "       u'score2'],\n",
       "      dtype='object')"
      ]
     },
     "execution_count": 3,
     "metadata": {},
     "output_type": "execute_result"
    }
   ],
   "source": [
    "df.columns"
   ]
  },
  {
   "cell_type": "code",
   "execution_count": 4,
   "metadata": {
    "collapsed": false
   },
   "outputs": [
    {
     "data": {
      "text/html": [
       "<div>\n",
       "<style scoped>\n",
       "    .dataframe tbody tr th:only-of-type {\n",
       "        vertical-align: middle;\n",
       "    }\n",
       "\n",
       "    .dataframe tbody tr th {\n",
       "        vertical-align: top;\n",
       "    }\n",
       "\n",
       "    .dataframe thead th {\n",
       "        text-align: right;\n",
       "    }\n",
       "</style>\n",
       "<table border=\"1\" class=\"dataframe\">\n",
       "  <thead>\n",
       "    <tr style=\"text-align: right;\">\n",
       "      <th></th>\n",
       "      <th>date</th>\n",
       "      <th>season</th>\n",
       "      <th>neutral</th>\n",
       "      <th>playoff</th>\n",
       "      <th>team1</th>\n",
       "      <th>team2</th>\n",
       "      <th>elo1_pre</th>\n",
       "      <th>elo2_pre</th>\n",
       "      <th>elo_prob1</th>\n",
       "      <th>elo_prob2</th>\n",
       "      <th>elo1_post</th>\n",
       "      <th>elo2_post</th>\n",
       "      <th>carmelo1_pre</th>\n",
       "      <th>carmelo2_pre</th>\n",
       "      <th>carmelo1_post</th>\n",
       "      <th>carmelo2_post</th>\n",
       "      <th>carmelo_prob1</th>\n",
       "      <th>carmelo_prob2</th>\n",
       "      <th>score1</th>\n",
       "      <th>score2</th>\n",
       "    </tr>\n",
       "  </thead>\n",
       "  <tbody>\n",
       "    <tr>\n",
       "      <th>0</th>\n",
       "      <td>1946-11-01</td>\n",
       "      <td>1947</td>\n",
       "      <td>0</td>\n",
       "      <td>NaN</td>\n",
       "      <td>TRH</td>\n",
       "      <td>NYK</td>\n",
       "      <td>1300.0</td>\n",
       "      <td>1300.0000</td>\n",
       "      <td>0.640065</td>\n",
       "      <td>0.359935</td>\n",
       "      <td>1293.2767</td>\n",
       "      <td>1306.7233</td>\n",
       "      <td>NaN</td>\n",
       "      <td>NaN</td>\n",
       "      <td>NaN</td>\n",
       "      <td>NaN</td>\n",
       "      <td>NaN</td>\n",
       "      <td>NaN</td>\n",
       "      <td>66</td>\n",
       "      <td>68</td>\n",
       "    </tr>\n",
       "    <tr>\n",
       "      <th>1</th>\n",
       "      <td>1946-11-02</td>\n",
       "      <td>1947</td>\n",
       "      <td>0</td>\n",
       "      <td>NaN</td>\n",
       "      <td>CHS</td>\n",
       "      <td>NYK</td>\n",
       "      <td>1300.0</td>\n",
       "      <td>1306.7233</td>\n",
       "      <td>0.631101</td>\n",
       "      <td>0.368899</td>\n",
       "      <td>1309.6521</td>\n",
       "      <td>1297.0712</td>\n",
       "      <td>NaN</td>\n",
       "      <td>NaN</td>\n",
       "      <td>NaN</td>\n",
       "      <td>NaN</td>\n",
       "      <td>NaN</td>\n",
       "      <td>NaN</td>\n",
       "      <td>63</td>\n",
       "      <td>47</td>\n",
       "    </tr>\n",
       "    <tr>\n",
       "      <th>2</th>\n",
       "      <td>1946-11-02</td>\n",
       "      <td>1947</td>\n",
       "      <td>0</td>\n",
       "      <td>NaN</td>\n",
       "      <td>PRO</td>\n",
       "      <td>BOS</td>\n",
       "      <td>1300.0</td>\n",
       "      <td>1300.0000</td>\n",
       "      <td>0.640065</td>\n",
       "      <td>0.359935</td>\n",
       "      <td>1305.1542</td>\n",
       "      <td>1294.8458</td>\n",
       "      <td>NaN</td>\n",
       "      <td>NaN</td>\n",
       "      <td>NaN</td>\n",
       "      <td>NaN</td>\n",
       "      <td>NaN</td>\n",
       "      <td>NaN</td>\n",
       "      <td>59</td>\n",
       "      <td>53</td>\n",
       "    </tr>\n",
       "    <tr>\n",
       "      <th>3</th>\n",
       "      <td>1946-11-02</td>\n",
       "      <td>1947</td>\n",
       "      <td>0</td>\n",
       "      <td>NaN</td>\n",
       "      <td>STB</td>\n",
       "      <td>PIT</td>\n",
       "      <td>1300.0</td>\n",
       "      <td>1300.0000</td>\n",
       "      <td>0.640065</td>\n",
       "      <td>0.359935</td>\n",
       "      <td>1304.6908</td>\n",
       "      <td>1295.3092</td>\n",
       "      <td>NaN</td>\n",
       "      <td>NaN</td>\n",
       "      <td>NaN</td>\n",
       "      <td>NaN</td>\n",
       "      <td>NaN</td>\n",
       "      <td>NaN</td>\n",
       "      <td>56</td>\n",
       "      <td>51</td>\n",
       "    </tr>\n",
       "    <tr>\n",
       "      <th>4</th>\n",
       "      <td>1946-11-02</td>\n",
       "      <td>1947</td>\n",
       "      <td>0</td>\n",
       "      <td>NaN</td>\n",
       "      <td>DTF</td>\n",
       "      <td>WSC</td>\n",
       "      <td>1300.0</td>\n",
       "      <td>1300.0000</td>\n",
       "      <td>0.640065</td>\n",
       "      <td>0.359935</td>\n",
       "      <td>1279.6189</td>\n",
       "      <td>1320.3811</td>\n",
       "      <td>NaN</td>\n",
       "      <td>NaN</td>\n",
       "      <td>NaN</td>\n",
       "      <td>NaN</td>\n",
       "      <td>NaN</td>\n",
       "      <td>NaN</td>\n",
       "      <td>33</td>\n",
       "      <td>50</td>\n",
       "    </tr>\n",
       "  </tbody>\n",
       "</table>\n",
       "</div>"
      ],
      "text/plain": [
       "         date  season  neutral playoff team1 team2  elo1_pre   elo2_pre  \\\n",
       "0  1946-11-01    1947        0     NaN   TRH   NYK    1300.0  1300.0000   \n",
       "1  1946-11-02    1947        0     NaN   CHS   NYK    1300.0  1306.7233   \n",
       "2  1946-11-02    1947        0     NaN   PRO   BOS    1300.0  1300.0000   \n",
       "3  1946-11-02    1947        0     NaN   STB   PIT    1300.0  1300.0000   \n",
       "4  1946-11-02    1947        0     NaN   DTF   WSC    1300.0  1300.0000   \n",
       "\n",
       "   elo_prob1  elo_prob2  elo1_post  elo2_post  carmelo1_pre  carmelo2_pre  \\\n",
       "0   0.640065   0.359935  1293.2767  1306.7233           NaN           NaN   \n",
       "1   0.631101   0.368899  1309.6521  1297.0712           NaN           NaN   \n",
       "2   0.640065   0.359935  1305.1542  1294.8458           NaN           NaN   \n",
       "3   0.640065   0.359935  1304.6908  1295.3092           NaN           NaN   \n",
       "4   0.640065   0.359935  1279.6189  1320.3811           NaN           NaN   \n",
       "\n",
       "   carmelo1_post  carmelo2_post  carmelo_prob1  carmelo_prob2  score1  score2  \n",
       "0            NaN            NaN            NaN            NaN      66      68  \n",
       "1            NaN            NaN            NaN            NaN      63      47  \n",
       "2            NaN            NaN            NaN            NaN      59      53  \n",
       "3            NaN            NaN            NaN            NaN      56      51  \n",
       "4            NaN            NaN            NaN            NaN      33      50  "
      ]
     },
     "execution_count": 4,
     "metadata": {},
     "output_type": "execute_result"
    }
   ],
   "source": [
    "df.head()"
   ]
  },
  {
   "cell_type": "code",
   "execution_count": 5,
   "metadata": {
    "collapsed": false
   },
   "outputs": [
    {
     "data": {
      "text/plain": [
       "(67094, 20)"
      ]
     },
     "execution_count": 5,
     "metadata": {},
     "output_type": "execute_result"
    }
   ],
   "source": [
    "df.shape"
   ]
  },
  {
   "cell_type": "code",
   "execution_count": 7,
   "metadata": {
    "collapsed": false
   },
   "outputs": [
    {
     "data": {
      "text/plain": [
       "<matplotlib.axes._subplots.AxesSubplot at 0x1120d3c90>"
      ]
     },
     "execution_count": 7,
     "metadata": {},
     "output_type": "execute_result"
    },
    {
     "data": {
      "image/png": "[encoded data removed]",
      "text/plain": [
       "<Figure size 720x720 with 2 Axes>"
      ]
     },
     "metadata": {},
     "output_type": "display_data"
    }
   ],
   "source": [
    "#Plotting correlation among all features in our dataframe\n",
    "\n",
    "fig, ax = plt.subplots(figsize=(10,10)) \n",
    "cor = df.corr()\n",
    "sns.heatmap(cor, square = True, linewidths=.5, ax=ax,cmap=\"YlGnBu\")"
   ]
  },
  {
   "cell_type": "code",
   "execution_count": 8,
   "metadata": {
    "collapsed": false
   },
   "outputs": [
    {
     "data": {
      "text/html": [
       "<div>\n",
       "<style scoped>\n",
       "    .dataframe tbody tr th:only-of-type {\n",
       "        vertical-align: middle;\n",
       "    }\n",
       "\n",
       "    .dataframe tbody tr th {\n",
       "        vertical-align: top;\n",
       "    }\n",
       "\n",
       "    .dataframe thead th {\n",
       "        text-align: right;\n",
       "    }\n",
       "</style>\n",
       "<table border=\"1\" class=\"dataframe\">\n",
       "  <thead>\n",
       "    <tr style=\"text-align: right;\">\n",
       "      <th></th>\n",
       "      <th>season</th>\n",
       "      <th>neutral</th>\n",
       "      <th>elo1_pre</th>\n",
       "      <th>elo2_pre</th>\n",
       "      <th>elo_prob1</th>\n",
       "      <th>elo_prob2</th>\n",
       "      <th>elo1_post</th>\n",
       "      <th>elo2_post</th>\n",
       "      <th>carmelo1_pre</th>\n",
       "      <th>carmelo2_pre</th>\n",
       "      <th>carmelo1_post</th>\n",
       "      <th>carmelo2_post</th>\n",
       "      <th>carmelo_prob1</th>\n",
       "      <th>carmelo_prob2</th>\n",
       "      <th>score1</th>\n",
       "      <th>score2</th>\n",
       "    </tr>\n",
       "  </thead>\n",
       "  <tbody>\n",
       "    <tr>\n",
       "      <th>count</th>\n",
       "      <td>67094.000000</td>\n",
       "      <td>67094.000000</td>\n",
       "      <td>67094.000000</td>\n",
       "      <td>67094.000000</td>\n",
       "      <td>67094.000000</td>\n",
       "      <td>67094.000000</td>\n",
       "      <td>67094.000000</td>\n",
       "      <td>67094.000000</td>\n",
       "      <td>3937.000000</td>\n",
       "      <td>3937.000000</td>\n",
       "      <td>3937.000000</td>\n",
       "      <td>3937.000000</td>\n",
       "      <td>3937.000000</td>\n",
       "      <td>3937.000000</td>\n",
       "      <td>67094.000000</td>\n",
       "      <td>67094.000000</td>\n",
       "    </tr>\n",
       "    <tr>\n",
       "      <th>mean</th>\n",
       "      <td>1989.890244</td>\n",
       "      <td>0.000402</td>\n",
       "      <td>1496.130655</td>\n",
       "      <td>1496.374871</td>\n",
       "      <td>0.621156</td>\n",
       "      <td>0.378844</td>\n",
       "      <td>1496.091962</td>\n",
       "      <td>1496.413564</td>\n",
       "      <td>1514.063424</td>\n",
       "      <td>1511.790884</td>\n",
       "      <td>1513.012250</td>\n",
       "      <td>1512.842057</td>\n",
       "      <td>0.627628</td>\n",
       "      <td>0.372372</td>\n",
       "      <td>104.694295</td>\n",
       "      <td>101.005112</td>\n",
       "    </tr>\n",
       "    <tr>\n",
       "      <th>std</th>\n",
       "      <td>18.353471</td>\n",
       "      <td>0.020057</td>\n",
       "      <td>112.541205</td>\n",
       "      <td>111.973834</td>\n",
       "      <td>0.178271</td>\n",
       "      <td>0.178271</td>\n",
       "      <td>112.997297</td>\n",
       "      <td>112.158110</td>\n",
       "      <td>119.434553</td>\n",
       "      <td>119.060992</td>\n",
       "      <td>119.884060</td>\n",
       "      <td>119.026822</td>\n",
       "      <td>0.192276</td>\n",
       "      <td>0.192276</td>\n",
       "      <td>14.837538</td>\n",
       "      <td>14.280889</td>\n",
       "    </tr>\n",
       "    <tr>\n",
       "      <th>min</th>\n",
       "      <td>1947.000000</td>\n",
       "      <td>0.000000</td>\n",
       "      <td>1105.617800</td>\n",
       "      <td>1091.644500</td>\n",
       "      <td>0.062616</td>\n",
       "      <td>0.018315</td>\n",
       "      <td>1100.291900</td>\n",
       "      <td>1085.774400</td>\n",
       "      <td>1187.730784</td>\n",
       "      <td>1192.842155</td>\n",
       "      <td>1187.730784</td>\n",
       "      <td>1192.004524</td>\n",
       "      <td>0.060474</td>\n",
       "      <td>0.013407</td>\n",
       "      <td>2.000000</td>\n",
       "      <td>0.000000</td>\n",
       "    </tr>\n",
       "    <tr>\n",
       "      <th>25%</th>\n",
       "      <td>1975.000000</td>\n",
       "      <td>0.000000</td>\n",
       "      <td>1418.390450</td>\n",
       "      <td>1418.476450</td>\n",
       "      <td>0.498694</td>\n",
       "      <td>0.240387</td>\n",
       "      <td>1417.754550</td>\n",
       "      <td>1418.616875</td>\n",
       "      <td>1435.901985</td>\n",
       "      <td>1434.250129</td>\n",
       "      <td>1434.376036</td>\n",
       "      <td>1435.176494</td>\n",
       "      <td>0.496332</td>\n",
       "      <td>0.221409</td>\n",
       "      <td>95.000000</td>\n",
       "      <td>92.000000</td>\n",
       "    </tr>\n",
       "    <tr>\n",
       "      <th>50%</th>\n",
       "      <td>1992.000000</td>\n",
       "      <td>0.000000</td>\n",
       "      <td>1501.363800</td>\n",
       "      <td>1502.459350</td>\n",
       "      <td>0.640045</td>\n",
       "      <td>0.359955</td>\n",
       "      <td>1501.409100</td>\n",
       "      <td>1502.342150</td>\n",
       "      <td>1511.853832</td>\n",
       "      <td>1510.142031</td>\n",
       "      <td>1510.411054</td>\n",
       "      <td>1511.829531</td>\n",
       "      <td>0.653200</td>\n",
       "      <td>0.346800</td>\n",
       "      <td>105.000000</td>\n",
       "      <td>101.000000</td>\n",
       "    </tr>\n",
       "    <tr>\n",
       "      <th>75%</th>\n",
       "      <td>2006.000000</td>\n",
       "      <td>0.000000</td>\n",
       "      <td>1576.469050</td>\n",
       "      <td>1575.943150</td>\n",
       "      <td>0.759613</td>\n",
       "      <td>0.501306</td>\n",
       "      <td>1576.623625</td>\n",
       "      <td>1576.220050</td>\n",
       "      <td>1586.428017</td>\n",
       "      <td>1582.333212</td>\n",
       "      <td>1585.163557</td>\n",
       "      <td>1583.328920</td>\n",
       "      <td>0.778591</td>\n",
       "      <td>0.503668</td>\n",
       "      <td>114.000000</td>\n",
       "      <td>110.000000</td>\n",
       "    </tr>\n",
       "    <tr>\n",
       "      <th>max</th>\n",
       "      <td>2018.000000</td>\n",
       "      <td>1.000000</td>\n",
       "      <td>1855.779115</td>\n",
       "      <td>1865.449075</td>\n",
       "      <td>0.981685</td>\n",
       "      <td>0.937384</td>\n",
       "      <td>1860.313175</td>\n",
       "      <td>1865.449075</td>\n",
       "      <td>1872.690559</td>\n",
       "      <td>1881.619599</td>\n",
       "      <td>1876.930941</td>\n",
       "      <td>1881.619599</td>\n",
       "      <td>0.986593</td>\n",
       "      <td>0.939526</td>\n",
       "      <td>184.000000</td>\n",
       "      <td>186.000000</td>\n",
       "    </tr>\n",
       "  </tbody>\n",
       "</table>\n",
       "</div>"
      ],
      "text/plain": [
       "             season       neutral      elo1_pre      elo2_pre     elo_prob1  \\\n",
       "count  67094.000000  67094.000000  67094.000000  67094.000000  67094.000000   \n",
       "mean    1989.890244      0.000402   1496.130655   1496.374871      0.621156   \n",
       "std       18.353471      0.020057    112.541205    111.973834      0.178271   \n",
       "min     1947.000000      0.000000   1105.617800   1091.644500      0.062616   \n",
       "25%     1975.000000      0.000000   1418.390450   1418.476450      0.498694   \n",
       "50%     1992.000000      0.000000   1501.363800   1502.459350      0.640045   \n",
       "75%     2006.000000      0.000000   1576.469050   1575.943150      0.759613   \n",
       "max     2018.000000      1.000000   1855.779115   1865.449075      0.981685   \n",
       "\n",
       "          elo_prob2     elo1_post     elo2_post  carmelo1_pre  carmelo2_pre  \\\n",
       "count  67094.000000  67094.000000  67094.000000   3937.000000   3937.000000   \n",
       "mean       0.378844   1496.091962   1496.413564   1514.063424   1511.790884   \n",
       "std        0.178271    112.997297    112.158110    119.434553    119.060992   \n",
       "min        0.018315   1100.291900   1085.774400   1187.730784   1192.842155   \n",
       "25%        0.240387   1417.754550   1418.616875   1435.901985   1434.250129   \n",
       "50%        0.359955   1501.409100   1502.342150   1511.853832   1510.142031   \n",
       "75%        0.501306   1576.623625   1576.220050   1586.428017   1582.333212   \n",
       "max        0.937384   1860.313175   1865.449075   1872.690559   1881.619599   \n",
       "\n",
       "       carmelo1_post  carmelo2_post  carmelo_prob1  carmelo_prob2  \\\n",
       "count    3937.000000    3937.000000    3937.000000    3937.000000   \n",
       "mean     1513.012250    1512.842057       0.627628       0.372372   \n",
       "std       119.884060     119.026822       0.192276       0.192276   \n",
       "min      1187.730784    1192.004524       0.060474       0.013407   \n",
       "25%      1434.376036    1435.176494       0.496332       0.221409   \n",
       "50%      1510.411054    1511.829531       0.653200       0.346800   \n",
       "75%      1585.163557    1583.328920       0.778591       0.503668   \n",
       "max      1876.930941    1881.619599       0.986593       0.939526   \n",
       "\n",
       "             score1        score2  \n",
       "count  67094.000000  67094.000000  \n",
       "mean     104.694295    101.005112  \n",
       "std       14.837538     14.280889  \n",
       "min        2.000000      0.000000  \n",
       "25%       95.000000     92.000000  \n",
       "50%      105.000000    101.000000  \n",
       "75%      114.000000    110.000000  \n",
       "max      184.000000    186.000000  "
      ]
     },
     "execution_count": 8,
     "metadata": {},
     "output_type": "execute_result"
    }
   ],
   "source": [
    "df.describe()"
   ]
  },
  {
   "cell_type": "code",
   "execution_count": 11,
   "metadata": {
    "collapsed": false
   },
   "outputs": [
    {
     "data": {
      "image/png": "[encoded data removed]",
      "text/plain": [
       "<Figure size 432x288 with 1 Axes>"
      ]
     },
     "metadata": {},
     "output_type": "display_data"
    }
   ],
   "source": [
    "line = plt.figure()\n",
    "plt.plot(df[\"score1\"],color='green');"
   ]
  },
  {
   "cell_type": "code",
   "execution_count": 12,
   "metadata": {
    "collapsed": false
   },
   "outputs": [
    {
     "data": {
      "image/png": "[encoded data removed]",
      "text/plain": [
       "<Figure size 432x288 with 1 Axes>"
      ]
     },
     "metadata": {},
     "output_type": "display_data"
    }
   ],
   "source": [
    "line = plt.figure()\n",
    "plt.plot(df[\"score2\"],color='red');"
   ]
  },
  {
   "cell_type": "code",
   "execution_count": 13,
   "metadata": {
    "collapsed": false
   },
   "outputs": [
    {
     "data": {
      "text/plain": [
       "date                 0\n",
       "season               0\n",
       "neutral              0\n",
       "playoff          62814\n",
       "team1                0\n",
       "team2                0\n",
       "elo1_pre             0\n",
       "elo2_pre             0\n",
       "elo_prob1            0\n",
       "elo_prob2            0\n",
       "elo1_post            0\n",
       "elo2_post            0\n",
       "carmelo1_pre     63157\n",
       "carmelo2_pre     63157\n",
       "carmelo1_post    63157\n",
       "carmelo2_post    63157\n",
       "carmelo_prob1    63157\n",
       "carmelo_prob2    63157\n",
       "score1               0\n",
       "score2               0\n",
       "dtype: int64"
      ]
     },
     "execution_count": 13,
     "metadata": {},
     "output_type": "execute_result"
    }
   ],
   "source": [
    "df.isnull().sum()"
   ]
  },
  {
   "cell_type": "code",
   "execution_count": 14,
   "metadata": {
    "collapsed": true
   },
   "outputs": [],
   "source": [
    "df = df.drop(['playoff'],axis=1)"
   ]
  },
  {
   "cell_type": "code",
   "execution_count": 15,
   "metadata": {
    "collapsed": true
   },
   "outputs": [],
   "source": [
    "df = df.drop(['carmelo1_pre', 'carmelo2_pre', 'carmelo1_post', 'carmelo2_post',\n",
    "        'carmelo_prob1', 'carmelo_prob2'],axis=1)"
   ]
  },
  {
   "cell_type": "code",
   "execution_count": 16,
   "metadata": {
    "collapsed": false
   },
   "outputs": [
    {
     "data": {
      "text/html": [
       "<div>\n",
       "<style scoped>\n",
       "    .dataframe tbody tr th:only-of-type {\n",
       "        vertical-align: middle;\n",
       "    }\n",
       "\n",
       "    .dataframe tbody tr th {\n",
       "        vertical-align: top;\n",
       "    }\n",
       "\n",
       "    .dataframe thead th {\n",
       "        text-align: right;\n",
       "    }\n",
       "</style>\n",
       "<table border=\"1\" class=\"dataframe\">\n",
       "  <thead>\n",
       "    <tr style=\"text-align: right;\">\n",
       "      <th></th>\n",
       "      <th>date</th>\n",
       "      <th>season</th>\n",
       "      <th>neutral</th>\n",
       "      <th>team1</th>\n",
       "      <th>team2</th>\n",
       "      <th>elo1_pre</th>\n",
       "      <th>elo2_pre</th>\n",
       "      <th>elo_prob1</th>\n",
       "      <th>elo_prob2</th>\n",
       "      <th>elo1_post</th>\n",
       "      <th>elo2_post</th>\n",
       "      <th>score1</th>\n",
       "      <th>score2</th>\n",
       "    </tr>\n",
       "  </thead>\n",
       "  <tbody>\n",
       "    <tr>\n",
       "      <th>0</th>\n",
       "      <td>1946-11-01</td>\n",
       "      <td>1947</td>\n",
       "      <td>0</td>\n",
       "      <td>TRH</td>\n",
       "      <td>NYK</td>\n",
       "      <td>1300.0</td>\n",
       "      <td>1300.0000</td>\n",
       "      <td>0.640065</td>\n",
       "      <td>0.359935</td>\n",
       "      <td>1293.2767</td>\n",
       "      <td>1306.7233</td>\n",
       "      <td>66</td>\n",
       "      <td>68</td>\n",
       "    </tr>\n",
       "    <tr>\n",
       "      <th>1</th>\n",
       "      <td>1946-11-02</td>\n",
       "      <td>1947</td>\n",
       "      <td>0</td>\n",
       "      <td>CHS</td>\n",
       "      <td>NYK</td>\n",
       "      <td>1300.0</td>\n",
       "      <td>1306.7233</td>\n",
       "      <td>0.631101</td>\n",
       "      <td>0.368899</td>\n",
       "      <td>1309.6521</td>\n",
       "      <td>1297.0712</td>\n",
       "      <td>63</td>\n",
       "      <td>47</td>\n",
       "    </tr>\n",
       "    <tr>\n",
       "      <th>2</th>\n",
       "      <td>1946-11-02</td>\n",
       "      <td>1947</td>\n",
       "      <td>0</td>\n",
       "      <td>PRO</td>\n",
       "      <td>BOS</td>\n",
       "      <td>1300.0</td>\n",
       "      <td>1300.0000</td>\n",
       "      <td>0.640065</td>\n",
       "      <td>0.359935</td>\n",
       "      <td>1305.1542</td>\n",
       "      <td>1294.8458</td>\n",
       "      <td>59</td>\n",
       "      <td>53</td>\n",
       "    </tr>\n",
       "    <tr>\n",
       "      <th>3</th>\n",
       "      <td>1946-11-02</td>\n",
       "      <td>1947</td>\n",
       "      <td>0</td>\n",
       "      <td>STB</td>\n",
       "      <td>PIT</td>\n",
       "      <td>1300.0</td>\n",
       "      <td>1300.0000</td>\n",
       "      <td>0.640065</td>\n",
       "      <td>0.359935</td>\n",
       "      <td>1304.6908</td>\n",
       "      <td>1295.3092</td>\n",
       "      <td>56</td>\n",
       "      <td>51</td>\n",
       "    </tr>\n",
       "    <tr>\n",
       "      <th>4</th>\n",
       "      <td>1946-11-02</td>\n",
       "      <td>1947</td>\n",
       "      <td>0</td>\n",
       "      <td>DTF</td>\n",
       "      <td>WSC</td>\n",
       "      <td>1300.0</td>\n",
       "      <td>1300.0000</td>\n",
       "      <td>0.640065</td>\n",
       "      <td>0.359935</td>\n",
       "      <td>1279.6189</td>\n",
       "      <td>1320.3811</td>\n",
       "      <td>33</td>\n",
       "      <td>50</td>\n",
       "    </tr>\n",
       "  </tbody>\n",
       "</table>\n",
       "</div>"
      ],
      "text/plain": [
       "         date  season  neutral team1 team2  elo1_pre   elo2_pre  elo_prob1  \\\n",
       "0  1946-11-01    1947        0   TRH   NYK    1300.0  1300.0000   0.640065   \n",
       "1  1946-11-02    1947        0   CHS   NYK    1300.0  1306.7233   0.631101   \n",
       "2  1946-11-02    1947        0   PRO   BOS    1300.0  1300.0000   0.640065   \n",
       "3  1946-11-02    1947        0   STB   PIT    1300.0  1300.0000   0.640065   \n",
       "4  1946-11-02    1947        0   DTF   WSC    1300.0  1300.0000   0.640065   \n",
       "\n",
       "   elo_prob2  elo1_post  elo2_post  score1  score2  \n",
       "0   0.359935  1293.2767  1306.7233      66      68  \n",
       "1   0.368899  1309.6521  1297.0712      63      47  \n",
       "2   0.359935  1305.1542  1294.8458      59      53  \n",
       "3   0.359935  1304.6908  1295.3092      56      51  \n",
       "4   0.359935  1279.6189  1320.3811      33      50  "
      ]
     },
     "execution_count": 16,
     "metadata": {},
     "output_type": "execute_result"
    }
   ],
   "source": [
    "df.head()"
   ]
  },
  {
   "cell_type": "code",
   "execution_count": 18,
   "metadata": {
    "collapsed": false
   },
   "outputs": [
    {
     "data": {
      "image/png": "[encoded data removed]",
      "text/plain": [
       "<Figure size 432x288 with 1 Axes>"
      ]
     },
     "metadata": {},
     "output_type": "display_data"
    }
   ],
   "source": [
    "plt.figure()\n",
    "bins = np.linspace(60, 180, 100)\n",
    "plt.title(\"Scores of team1 and team2\")\n",
    "plt.xlabel(\"Points\")\n",
    "plt.ylabel(\"Frequency\")\n",
    "plt.hist(df[\"score1\"],bins, alpha=0.5)\n",
    "plt.hist(df[\"score2\"],bins, alpha=0.5)\n",
    "plt.show()"
   ]
  },
  {
   "cell_type": "code",
   "execution_count": 19,
   "metadata": {
    "collapsed": true
   },
   "outputs": [],
   "source": [
    "#Getting winning and losing teams scores from the dataframe\n",
    "scores = pd.DataFrame([df[\"score1\"],df[\"score2\"]])\n",
    "winner_scores = scores.max(0)\n",
    "looser_scores = scores.min(0)"
   ]
  },
  {
   "cell_type": "code",
   "execution_count": 20,
   "metadata": {
    "collapsed": false
   },
   "outputs": [
    {
     "data": {
      "image/png": "[encoded data removed]",
      "text/plain": [
       "<Figure size 432x288 with 1 Axes>"
      ]
     },
     "metadata": {},
     "output_type": "display_data"
    }
   ],
   "source": [
    "#Plotting winning vs losing scores\n",
    "plt.figure()\n",
    "bins = np.linspace(60, 180, 100)\n",
    "plt.title(\"Winner and Loser Scores\")\n",
    "plt.xlabel(\"Points\")\n",
    "plt.ylabel(\"Frequency\")\n",
    "plt.hist(winner_scores,bins, alpha=0.5)\n",
    "plt.hist(looser_scores,bins, alpha=0.5)\n",
    "plt.show()"
   ]
  },
  {
   "cell_type": "code",
   "execution_count": 22,
   "metadata": {
    "collapsed": false
   },
   "outputs": [
    {
     "data": {
      "text/plain": [
       "0    False\n",
       "1     True\n",
       "2     True\n",
       "3     True\n",
       "4    False\n",
       "dtype: bool"
      ]
     },
     "execution_count": 22,
     "metadata": {},
     "output_type": "execute_result"
    }
   ],
   "source": [
    "# Create a new feature that says true or false, based on whether the home team wins or loses respectively. \n",
    "\n",
    "#Copying the dataframe into another df\n",
    "nba = df\n",
    "y = nba[\"score1\"]>nba[\"score2\"]\n",
    "y.head()"
   ]
  },
  {
   "cell_type": "code",
   "execution_count": 23,
   "metadata": {
    "collapsed": false
   },
   "outputs": [
    {
     "data": {
      "image/png": "[encoded data removed]",
      "text/plain": [
       "<Figure size 432x288 with 1 Axes>"
      ]
     },
     "metadata": {},
     "output_type": "display_data"
    }
   ],
   "source": [
    "# Plotting the home teams wins and losses\n",
    "plt.hist(y, density=True);"
   ]
  }
 ],
 "metadata": {
  "anaconda-cloud": {},
  "kernelspec": {
   "display_name": "Python [default]",
   "language": "python",
   "name": "python2"
  },
  "language_info": {
   "codemirror_mode": {
    "name": "ipython",
    "version": 2
   },
   "file_extension": ".py",
   "mimetype": "text/x-python",
   "name": "python",
   "nbconvert_exporter": "python",
   "pygments_lexer": "ipython2",
   "version": "2.7.12"
  }
 },
 "nbformat": 4,
 "nbformat_minor": 1
}
